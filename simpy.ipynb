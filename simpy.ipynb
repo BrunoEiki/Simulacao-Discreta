{
  "nbformat": 4,
  "nbformat_minor": 0,
  "metadata": {
    "colab": {
      "provenance": [],
      "authorship_tag": "ABX9TyMvAQAzME1JRWSjEayp0Gl3",
      "include_colab_link": true
    },
    "kernelspec": {
      "name": "python3",
      "display_name": "Python 3"
    },
    "language_info": {
      "name": "python"
    }
  },
  "cells": [
    {
      "cell_type": "markdown",
      "metadata": {
        "id": "view-in-github",
        "colab_type": "text"
      },
      "source": [
        "<a href=\"https://colab.research.google.com/github/BrunoEiki/Simulacao-Discreta/blob/main/simpy.ipynb\" target=\"_parent\"><img src=\"https://colab.research.google.com/assets/colab-badge.svg\" alt=\"Open In Colab\"/></a>"
      ]
    },
    {
      "cell_type": "markdown",
      "source": [
        "# Introdução\n",
        "Simpy é uma biblioteca que fornece métodos para Escalonar eventos com um mesmo relógio global."
      ],
      "metadata": {
        "id": "qvqsbkcYAW2W"
      }
    },
    {
      "cell_type": "code",
      "execution_count": 1,
      "metadata": {
        "colab": {
          "base_uri": "https://localhost:8080/"
        },
        "id": "oDmK651a_7Mg",
        "outputId": "df32c2a1-974f-4cb5-e03a-c3649d845bb1"
      },
      "outputs": [
        {
          "output_type": "stream",
          "name": "stdout",
          "text": [
            "Looking in indexes: https://pypi.org/simple, https://us-python.pkg.dev/colab-wheels/public/simple/\n",
            "Collecting simpy\n",
            "  Downloading simpy-4.0.1-py2.py3-none-any.whl (29 kB)\n",
            "Installing collected packages: simpy\n",
            "Successfully installed simpy-4.0.1\n"
          ]
        }
      ],
      "source": [
        "### INSTALAR DEPENDÊNCIAS\n",
        "!pip install simpy"
      ]
    },
    {
      "cell_type": "markdown",
      "source": [
        "## Generators\n",
        "Gera os valores na hora da chamada,  não da  definiçao\n",
        "Vantagens:\n",
        "* Menor uso  da memória\n",
        "\n",
        "Desvantagens:\n",
        "* maior tempo de processamento\n",
        "* não dá para  percorrer\n",
        "\n"
      ],
      "metadata": {
        "id": "iMDfYUWsA6zs"
      }
    },
    {
      "cell_type": "code",
      "source": [
        "# Notação semelhante ao comp\n",
        "lista  = (i ** 2  for i in range(0, 10))\n"
      ],
      "metadata": {
        "id": "E1ldYo85AWjn"
      },
      "execution_count": null,
      "outputs": []
    },
    {
      "cell_type": "markdown",
      "source": [
        "## ```yield```\n",
        "palavra-reservada que funciona como o return\n",
        "```\n",
        "x = x +  1\n",
        "yield x\n",
        "// na segundaa  chamada, ignora  a parte  do yield 1 e começa daqui\n",
        "x = 1 + 3\n",
        "yield x\n",
        "```\n",
        "retorna um generator"
      ],
      "metadata": {
        "id": "XJuqBVRbDVDF"
      }
    },
    {
      "cell_type": "code",
      "source": [
        "### IMPORTAÇÃO\n",
        "import simpy as simp\n",
        "import statistics as st\n",
        "import numpy as np"
      ],
      "metadata": {
        "id": "aTF8khYIIZeA"
      },
      "execution_count": 2,
      "outputs": []
    },
    {
      "cell_type": "code",
      "source": [
        "class Pessoa:\n",
        "    def __init__(self, env, nome, tempo_estudo, tempo_rede_social):\n",
        "        self.env = env\n",
        "        self.nome = nome\n",
        "        self.tempo_estudo = tempo_estudo\n",
        "        self.tempo_rede_social = tempo_rede_social\n",
        "        self.env.process(self.run())\n",
        "        \n",
        "    def run(self):\n",
        "        while True:\n",
        "            print(f\"[{self.nome}] começou a estudar em:\", self.env.now)\n",
        "            yield self.env.timeout(self.tempo_estudo)\n",
        "\n",
        "            print(f\"[{self.nome}] foi para as redes sociais em:\", self.env.now)\n",
        "            yield self.env.timeout(self.tempo_rede_social)\n"
      ],
      "metadata": {
        "id": "wrsZ-NbkEriD"
      },
      "execution_count": null,
      "outputs": []
    },
    {
      "cell_type": "code",
      "source": [
        "#@title oi\n",
        "env = simp.Environment()\n",
        "p1 = Pessoa(env, \"Adonis\", 4, 5)\n",
        "p2 = Pessoa(env, \"Bario\", 2, 6)\n",
        "p3 = Pessoa(env, \"Cesar\", 6, 3)\n",
        "\n",
        "env.run(until=100)\n"
      ],
      "metadata": {
        "id": "DrL0cx2qHigh"
      },
      "execution_count": null,
      "outputs": []
    },
    {
      "cell_type": "markdown",
      "source": [
        "[17/maio/2023]\n",
        "# Events"
      ],
      "metadata": {
        "id": "GmebhuLrdhCs"
      }
    },
    {
      "cell_type": "code",
      "source": [
        "class Carro:\n",
        "    def __init__(self, env, modelo, frequencia):\n",
        "        self.env = env\n",
        "        self.modelo = modelo\n",
        "        self.frequencia = frequencia\n",
        "        self.env.process(self.run())\n",
        "        \n",
        "    def run(self):\n",
        "        while True:\n",
        "            print(f\"[{self.modelo}] passou em:\", self.env.now)\n",
        "            yield self.env.timeout(self.frequencia)\n",
        "\n",
        "\n",
        "class Aviao:\n",
        "    def __init__(self, env, modelo, frequencia):\n",
        "        self.env = env\n",
        "        self.modelo = modelo\n",
        "        self.frequencia = frequencia\n",
        "        self.env.process(self.run())\n",
        "        \n",
        "    def run(self):\n",
        "        while True:\n",
        "            print(f\"[{self.modelo}] passou em:\", self.env.now)\n",
        "            yield self.env.timeout(self.frequencia)\n",
        "\n",
        "\n",
        "class Barco:\n",
        "    def __init__(self, env, modelo, frequencia):\n",
        "        self.env = env\n",
        "        self.modelo = modelo\n",
        "        self.frequencia = frequencia\n",
        "        self.env.process(self.run())\n",
        "        \n",
        "    def run(self):\n",
        "        while True:\n",
        "            print(f\"[{self.modelo}] passou em:\", self.env.now)\n",
        "            yield self.env.timeout(self.frequencia)\n"
      ],
      "metadata": {
        "id": "gGK7hsDBdnw8"
      },
      "execution_count": null,
      "outputs": []
    },
    {
      "cell_type": "code",
      "source": [
        "#@title \n",
        "env = simp.Environment()\n",
        "p1 = Carro(env, \"Fusca\", 4)\n",
        "p2 = Aviao(env, \"Boing 717\", 23)\n",
        "p3 = Barco(env, \"Going Merry\", 12)\n",
        "\n",
        "env.run(until=88)"
      ],
      "metadata": {
        "colab": {
          "base_uri": "https://localhost:8080/"
        },
        "id": "sls9iQC5eLn1",
        "outputId": "591318f1-cdf3-4f36-ac08-02ad0ce6183f"
      },
      "execution_count": null,
      "outputs": [
        {
          "output_type": "stream",
          "name": "stdout",
          "text": [
            "[Fusca] passou em: 0\n",
            "[Boing 717] passou em: 0\n",
            "[Going Merry] passou em: 0\n",
            "[Fusca] passou em: 4\n",
            "[Fusca] passou em: 8\n",
            "[Going Merry] passou em: 12\n",
            "[Fusca] passou em: 12\n",
            "[Fusca] passou em: 16\n",
            "[Fusca] passou em: 20\n",
            "[Boing 717] passou em: 23\n",
            "[Going Merry] passou em: 24\n",
            "[Fusca] passou em: 24\n",
            "[Fusca] passou em: 28\n",
            "[Fusca] passou em: 32\n",
            "[Going Merry] passou em: 36\n",
            "[Fusca] passou em: 36\n",
            "[Fusca] passou em: 40\n",
            "[Fusca] passou em: 44\n",
            "[Boing 717] passou em: 46\n",
            "[Going Merry] passou em: 48\n",
            "[Fusca] passou em: 48\n",
            "[Fusca] passou em: 52\n",
            "[Fusca] passou em: 56\n",
            "[Going Merry] passou em: 60\n",
            "[Fusca] passou em: 60\n",
            "[Fusca] passou em: 64\n",
            "[Fusca] passou em: 68\n",
            "[Boing 717] passou em: 69\n",
            "[Going Merry] passou em: 72\n",
            "[Fusca] passou em: 72\n",
            "[Fusca] passou em: 76\n",
            "[Fusca] passou em: 80\n",
            "[Going Merry] passou em: 84\n",
            "[Fusca] passou em: 84\n"
          ]
        }
      ]
    },
    {
      "cell_type": "markdown",
      "source": [
        "# 3. RESOURCES\n",
        "Modelar interação entre processos. \n",
        "## 3.1. Resources \n",
        "São alocados para as entidades e ficam em estado de \"ocupado\" enquanto estiver sendo usado. Secretária e médicos são recursos.\n",
        "## 3.2. Containers\n",
        "Recursos que, além de serem alocados, também sofrem modificação de quantidade. Por exemplo, combustível é consumido durante abastecimento\n",
        "## 3.3. Store\n",
        "Semelhante ao container, porém ao invés de uma quantidade, há alteração de um objeto."
      ],
      "metadata": {
        "id": "HdE2N0teX_KL"
      }
    },
    {
      "cell_type": "code",
      "source": [
        "class Carro:\n",
        "    def __init__(self, env, nome, tempo_chegada, tempo_abastecimento):\n",
        "        self.env = env\n",
        "        self.nome = nome\n",
        "        self.tempo_chegada = tempo_chegada\n",
        "        self.tempo_abastecimento = tempo_abastecimento\n",
        "\n",
        "class Posto:\n",
        "    def __init__(self, env, bombas: int):\n",
        "        self.env = env\n",
        "        self.bombas = bombas\n",
        "        \n",
        "    def abastecer(self, carro):\n",
        "        # espera até que o carro chegue no posto\n",
        "        yield self.env.timeout(carro.tempo_chegada)\n",
        "        print(carro.nome, 'chegou em', self.env.now)\n",
        "        # Solicita pelo uso da bomba. Enquanto está sendo usada\n",
        "        # não pode ser acessada por outras entidades. \n",
        "        with self.bombas.request() as bomba:\n",
        "            # se a bomba estiver sendo usada por outro\n",
        "            # carro, esperar até conseguir o acesso\n",
        "            yield bomba\n",
        "            print(carro.nome, 'iniciou abastecimento em', self.env.now)\n",
        "            # tempo de abastecimento\n",
        "            yield self.env.timeout(carro.tempo_abastecimento)\n",
        "            print(carro.nome, 'saiu do abastecimento em', self.env.now)\n",
        "\n",
        "import simpy\n",
        "env = simpy.Environment()\n",
        "\n",
        "c1 = Carro(env, 'Lada', 0, 5)        \n",
        "c2 = Carro(env, 'Fusca', 0, 3)     \n",
        "c3 = Carro(env, 'Opala', 4, 2)       \n",
        "c4 = Carro(env, 'Fiat 147', 8, 2)       \n",
        "c5 = Carro(env, 'Santana', 12, 8)          \n",
        "\n",
        "# Ao aumentar a capacidade de bombas disponíveis,\n",
        "# reduz-se o tempo de ociosidade/espera dos carros. O tempo\n",
        "# final pode ser o mesmo, mas a eficiência melhora.\n",
        "bombas = simpy.Resource(env, capacity=2)\n",
        "p = Posto(env, bombas)\n",
        "\n",
        "env.process(p.abastecer(c1))\n",
        "env.process(p.abastecer(c2))\n",
        "env.process(p.abastecer(c3))\n",
        "env.process(p.abastecer(c4))\n",
        "env.process(p.abastecer(c5))\n",
        "\n",
        "env.run()\n"
      ],
      "metadata": {
        "colab": {
          "base_uri": "https://localhost:8080/"
        },
        "id": "pQpqFIEwaRak",
        "outputId": "874475bf-8e27-4b7a-8d6c-5bffa1b8328f"
      },
      "execution_count": null,
      "outputs": [
        {
          "output_type": "stream",
          "name": "stdout",
          "text": [
            "Lada chegou em 0\n",
            "Fusca chegou em 0\n",
            "Lada iniciou abastecimento em 0\n",
            "Fusca iniciou abastecimento em 0\n",
            "Fusca saiu do abastecimento em 3\n",
            "Opala chegou em 4\n",
            "Opala iniciou abastecimento em 4\n",
            "Lada saiu do abastecimento em 5\n",
            "Opala saiu do abastecimento em 6\n",
            "Fiat 147 chegou em 8\n",
            "Fiat 147 iniciou abastecimento em 8\n",
            "Fiat 147 saiu do abastecimento em 10\n",
            "Santana chegou em 12\n",
            "Santana iniciou abastecimento em 12\n",
            "Santana saiu do abastecimento em 20\n"
          ]
        }
      ]
    },
    {
      "cell_type": "markdown",
      "source": [
        "# 4. Prioridade\n",
        "* PriorityResource\n",
        "* PreemptiveResource"
      ],
      "metadata": {
        "id": "ZhYUBWkieFep"
      }
    },
    {
      "cell_type": "code",
      "source": [
        "def fila(env, recurso, pessoa, chegada, prioridade):\n",
        "    yield env.timeout(chegada)\n",
        "    with recurso.request(priority=prioridade) as req:\n",
        "        yield req\n",
        "        print(f\"{pessoa} atendida em {env.now}\")\n",
        "        yield env.timeout(5)\n",
        "\n",
        "env = simp.Environment()\n",
        "# recurso = simp.PriorityResource(env, capacity=1)\n",
        "recurso = simp.PreemptiveResource(env, capacity=1)\n",
        "\n",
        "env.process(fila(env, recurso, \"Maria\", 0, 1000))\n",
        "env.process(fila(env, recurso, \"Paula\", 1, 1.2))\n",
        "env.process(fila(env, recurso, \"Alana\", 2, 1))\n",
        "env.process(fila(env, recurso, \"Ana\", 0, -200000))\n",
        "\n",
        "env.run()"
      ],
      "metadata": {
        "colab": {
          "base_uri": "https://localhost:8080/"
        },
        "id": "kMlWqwGGavL6",
        "outputId": "9a4b238d-fdce-42ec-ccd3-7ed0efc739c3"
      },
      "execution_count": 10,
      "outputs": [
        {
          "output_type": "stream",
          "name": "stdout",
          "text": [
            "Maria atendida em 0\n",
            "Ana atendida em 5\n",
            "Alana atendida em 10\n",
            "Paula atendida em 15\n"
          ]
        }
      ]
    }
  ]
}